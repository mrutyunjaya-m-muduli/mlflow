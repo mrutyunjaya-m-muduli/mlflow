{
  "nbformat": 4,
  "nbformat_minor": 0,
  "metadata": {
    "colab": {
      "name": "pycode1.ipynb",
      "provenance": [],
      "authorship_tag": "ABX9TyMt9r3+RjDsAahH5ffbPj/W",
      "include_colab_link": true
    },
    "kernelspec": {
      "name": "python3",
      "display_name": "Python 3"
    },
    "language_info": {
      "name": "python"
    }
  },
  "cells": [
    {
      "cell_type": "markdown",
      "metadata": {
        "id": "view-in-github",
        "colab_type": "text"
      },
      "source": [
        "<a href=\"https://colab.research.google.com/github/mrutyunjaya-m-muduli/mlflow/blob/master/pycode1.ipynb\" target=\"_parent\"><img src=\"https://colab.research.google.com/assets/colab-badge.svg\" alt=\"Open In Colab\"/></a>"
      ]
    },
    {
      "cell_type": "code",
      "metadata": {
        "colab": {
          "base_uri": "https://localhost:8080/"
        },
        "id": "IGE-ykfirrD5",
        "outputId": "abb7ffea-a89f-4a94-e9f8-9bdd71415c7e"
      },
      "source": [
        "a = 'Welcome to PWC'\n",
        "b = 123\n",
        "c = 3.142\n",
        "d = 10+6j\n",
        "print(a,b,c,d)"
      ],
      "execution_count": 2,
      "outputs": [
        {
          "output_type": "stream",
          "text": [
            "Welcome to PWC 123 3.142 (10+6j)\n"
          ],
          "name": "stdout"
        }
      ]
    },
    {
      "cell_type": "code",
      "metadata": {
        "colab": {
          "base_uri": "https://localhost:8080/"
        },
        "id": "NAT6tu-kwFW6",
        "outputId": "a58759b0-1e16-4942-9900-ca3e878f7264"
      },
      "source": [
        "b = 123\n",
        "c = 3.142\n",
        "d = 10+6j\n",
        "print(float(b),int(c),str(d))"
      ],
      "execution_count": 7,
      "outputs": [
        {
          "output_type": "stream",
          "text": [
            "123.0 3 (10+6j)\n"
          ],
          "name": "stdout"
        }
      ]
    },
    {
      "cell_type": "code",
      "metadata": {
        "colab": {
          "base_uri": "https://localhost:8080/"
        },
        "id": "PeIlHszbx-vq",
        "outputId": "51078a0d-c2a1-4b56-b953-b4fa97a89118"
      },
      "source": [
        "t = (1,2,3,5,7,11,13)\n",
        "t1 = (\"ram\", \"sita\", \"lucky\")\n",
        "print(t,t1)"
      ],
      "execution_count": 12,
      "outputs": [
        {
          "output_type": "stream",
          "text": [
            "(1, 2, 3, 5, 7, 11, 13) ('ram', 'sita', 'lucky')\n"
          ],
          "name": "stdout"
        }
      ]
    },
    {
      "cell_type": "code",
      "metadata": {
        "colab": {
          "base_uri": "https://localhost:8080/"
        },
        "id": "vZ9FfdWhMHmj",
        "outputId": "3a229c19-30eb-4b2d-8344-dfcb9378b190"
      },
      "source": [
        "s = {4, 8,8,8,8, 16, 32, 64, 128, 256, 512, 1024}\n",
        "s1 = {1,4,8,16,32}\n",
        "print(s|s1)   \n",
        "print(s-s1)   \n",
        "print(s&s1)  "
      ],
      "execution_count": 20,
      "outputs": [
        {
          "output_type": "stream",
          "text": [
            "{32, 64, 128, 256, 4, 512, 1024, 1, 8, 16}\n",
            "{64, 256, 128, 512, 1024}\n",
            "{32, 8, 4, 16}\n"
          ],
          "name": "stdout"
        }
      ]
    },
    {
      "cell_type": "code",
      "metadata": {
        "colab": {
          "base_uri": "https://localhost:8080/"
        },
        "id": "DuLcthezSz-W",
        "outputId": "1c21ae8b-a86e-4dd5-f58c-935160c272be"
      },
      "source": [
        "import sys\n",
        "print(\"Python version\")\n",
        "print (sys.version)\n",
        "print(\"Version info.\")\n",
        "print (sys.version_info)"
      ],
      "execution_count": 21,
      "outputs": [
        {
          "output_type": "stream",
          "text": [
            "Python version\n",
            "3.7.11 (default, Jul  3 2021, 18:01:19) \n",
            "[GCC 7.5.0]\n",
            "Version info.\n",
            "sys.version_info(major=3, minor=7, micro=11, releaselevel='final', serial=0)\n"
          ],
          "name": "stdout"
        }
      ]
    }
  ]
}